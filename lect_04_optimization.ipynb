{
 "cells": [
  {
   "cell_type": "code",
   "execution_count": 2,
   "metadata": {},
   "outputs": [],
   "source": [
    "%matplotlib inline\n",
    "from IPython.display import display,Latex,Math,HTML,clear_output\n",
    "import sympy as sym\n",
    "import math\n",
    "import numpy as np\n",
    "import time\n",
    "import matplotlib.pyplot as plt\n",
    "import matplotlib.animation as animation"
   ]
  },
  {
   "cell_type": "markdown",
   "metadata": {},
   "source": [
    "<center>\n",
    "<hr>\n",
    "<font size=\"20\" color='Blue' >One Dimensional Unconstrained Optimization</font>\n",
    "<hr>\n",
    "</center>"
   ]
  },
  {
   "cell_type": "code",
   "execution_count": 3,
   "metadata": {},
   "outputs": [
    {
     "data": {
      "text/latex": [
       " \\begin{equation*} \\Huge\n",
       "      f(x) = 2 sin(x)-{x^2 \\over 10}\n",
       "      \\end{equation*} \n",
       "      "
      ],
      "text/plain": [
       "<IPython.core.display.Latex object>"
      ]
     },
     "execution_count": 3,
     "metadata": {},
     "output_type": "execute_result"
    }
   ],
   "source": [
    "Latex(f\"\"\" \\\\begin{{equation*}} \\\\Huge\n",
    "      f(x) = 2 sin(x)-{{x^2 \\\\over 10}}\n",
    "      \\\\end{{equation*}} \n",
    "      \"\"\")"
   ]
  },
  {
   "cell_type": "markdown",
   "metadata": {},
   "source": [
    "https://www.geodose.com/2021/06/golden-section-search-python-application-example.html"
   ]
  },
  {
   "cell_type": "code",
   "execution_count": null,
   "metadata": {},
   "outputs": [],
   "source": [
    "def func(x):\n",
    "    return 2*np.sin(x) - x**2/10"
   ]
  },
  {
   "cell_type": "code",
   "execution_count": null,
   "metadata": {},
   "outputs": [],
   "source": [
    "def check_pos(x1,x2):\n",
    "    if x2<x1:\n",
    "        label='right'\n",
    "    else:\n",
    "        label=''\n",
    "    return label"
   ]
  },
  {
   "cell_type": "code",
   "execution_count": null,
   "metadata": {},
   "outputs": [],
   "source": [
    "def update_interior(xl,xu):\n",
    "    d=((np.sqrt(5)-1)/2)*(xu-xl)\n",
    "    x1=xl+d\n",
    "    x2=xu-d\n",
    "    return x1,x2"
   ]
  },
  {
   "cell_type": "code",
   "execution_count": null,
   "metadata": {},
   "outputs": [],
   "source": [
    "def find_min(xl,xu,x1,x2,label):\n",
    "    fx1=func(x1)\n",
    "    fx2=func(x2)\n",
    "    if fx2>fx1 and label=='right':\n",
    "        xl=x2\n",
    "        xu=xu\n",
    "        new_x=update_interior(xl,xu)\n",
    "        x1=new_x[0]\n",
    "        x2=new_x[1]\n",
    "        xopt=x1\n",
    "    else:\n",
    "        xl=xl\n",
    "        xu=x1\n",
    "        new_x=update_interior(xl,xu)\n",
    "        x1=new_x[0]\n",
    "        x2=new_x[1]\n",
    "        xopt=x2\n",
    "    return xl,xu,xopt"
   ]
  },
  {
   "cell_type": "code",
   "execution_count": null,
   "metadata": {},
   "outputs": [],
   "source": [
    "def find_max(xl,xu,x1,x2,label):\n",
    "    fx1=func(x1)\n",
    "    fx2=func(x2)\n",
    "    if fx2>fx1 and label=='right':\n",
    "        xl=xl\n",
    "        xu=x1\n",
    "        new_x=update_interior(xl,xu)\n",
    "        x1=new_x[0]\n",
    "        x2=new_x[1]\n",
    "        xopt=x2\n",
    "    else:\n",
    "        xl=x2\n",
    "        xu=xu\n",
    "        new_x=update_interior(xl,xu)\n",
    "        x1=new_x[0]\n",
    "        x2=new_x[1]\n",
    "        xopt=x1\n",
    "    return xl,xu,xopt\n"
   ]
  },
  {
   "cell_type": "code",
   "execution_count": null,
   "metadata": {},
   "outputs": [],
   "source": [
    "#PLOTTING FUNCTION\n",
    "def plot_graph(xl,xu,x1,x2):\n",
    "    clear_output(wait=True)\n",
    "    \n",
    "    #plot sinus graph\n",
    "    plt.plot(x,y)\n",
    "    plt.plot([0,6],[0,0],'k')\n",
    "    \n",
    "    #plot x1 point\n",
    "    plt.plot(x1,func(x1),'ro',label='x1')\n",
    "    plt.plot([x1,x1],[0,func(x1)],'k')\n",
    "    \n",
    "    #plot x2 point\n",
    "    plt.plot(x2,func(x2),'bo',label='x2')\n",
    "    plt.plot([x2,x2],[0,func(x2)],'k')\n",
    "    \n",
    "    #plot xl line\n",
    "    plt.plot([xl,xl],[0,func(xl)])\n",
    "    plt.annotate('xl',xy=(xl-0.01,-0.2))\n",
    "        \n",
    "    #plot xu line\n",
    "    plt.plot([xu,xu],[0,func(xu)])\n",
    "    plt.annotate('xu',xy=(xu-0.01,-0.2))\n",
    "        \n",
    "    #plot x1 line\n",
    "    plt.plot([x1,x1],[0,func(x1)],'k')\n",
    "    plt.annotate('x1',xy=(x1-0.01,-0.2))\n",
    "        \n",
    "    #plot x2 line\n",
    "    plt.plot([x2,x2],[0,func(x2)],'k')\n",
    "    plt.annotate('x2',xy=(x2-0.01,-0.2))\n",
    "    \n",
    "    #y-axis limit\n",
    "    plt.ylim([-5,2])\n",
    "    plt.show()"
   ]
  },
  {
   "cell_type": "code",
   "execution_count": null,
   "metadata": {},
   "outputs": [],
   "source": [
    "\n",
    "def golden_search(xl,xu,mode,et):\n",
    "    it=0\n",
    "    e=1\n",
    "    while e>=et:\n",
    "        new_x=update_interior(xl,xu)\n",
    "        x1=new_x[0]\n",
    "        x2=new_x[1]\n",
    "        fx1=func(x1)\n",
    "        fx2=func(x2)\n",
    "        label=check_pos(x1,x2)\n",
    "        clear_output(wait=True)\n",
    "        plot_graph(xl,xu,x1,x2) #PLOTTING\n",
    "        plt.show()\n",
    "        \n",
    "        #SELECTING AND UPDATING BOUNDARY-INTERIOR POINTS\n",
    "        if mode=='max':\n",
    "            new_boundary=find_max(xl,xu,x1,x2,label)\n",
    "        elif mode=='min':\n",
    "            new_boundary=find_min(xl,xu,x1,x2,label)\n",
    "        else:\n",
    "            print('Please define min/max mode')\n",
    "            break #exit if mode not min or max\n",
    "        xl=new_boundary[0]\n",
    "        xu=new_boundary[1]\n",
    "        xopt=new_boundary[2]\n",
    "        \n",
    "        it+=1\n",
    "        print ('Iteration: ',it)\n",
    "        r=(np.sqrt(5)-1)/2 #GOLDEN RATIO\n",
    "        e=((1-r)*(abs((xu-xl)/xopt)))*100 #Error\n",
    "        print('Error:',e)\n",
    "        time.sleep(1)"
   ]
  },
  {
   "cell_type": "code",
   "execution_count": null,
   "metadata": {},
   "outputs": [],
   "source": [
    "x=np.linspace(0,6,100)\n",
    "y=func(x)\n",
    "\n",
    "#EXECUTING GOLDEN SEARCH FUNCTION\n",
    "golden_search(0,6,'max',0.05)"
   ]
  },
  {
   "cell_type": "code",
   "execution_count": null,
   "metadata": {},
   "outputs": [],
   "source": []
  },
  {
   "cell_type": "markdown",
   "metadata": {},
   "source": [
    "<center>\n",
    "<hr>\n",
    "<font size=\"20\" color='Blue' >Newton's Optimization Method</font>\n",
    "<hr>\n",
    "</center>"
   ]
  },
  {
   "cell_type": "code",
   "execution_count": null,
   "metadata": {},
   "outputs": [],
   "source": [
    "Latex(f\"\"\" \\\\begin{{equation*}} \\\\Huge\n",
    "      f(x) = 2 sin(x)-{{x^2 \\\\over 10}}\n",
    "      \\\\end{{equation*}} \n",
    "      \"\"\")"
   ]
  },
  {
   "cell_type": "code",
   "execution_count": null,
   "metadata": {},
   "outputs": [],
   "source": [
    "def func(x):\n",
    "    return 2*np.sin(x) - x**2/10\n",
    "\n",
    "def dfunc(x):\n",
    "    return 2*np.cos(x) - x/5\n",
    "\n",
    "def ddfunc(x):\n",
    "    return -2*np.sin(x) - 1/5"
   ]
  },
  {
   "cell_type": "code",
   "execution_count": null,
   "metadata": {},
   "outputs": [],
   "source": [
    "def plot_graph(x1):\n",
    "    clear_output(wait=True)\n",
    "    \n",
    "    #plot sinus graph\n",
    "    plt.plot(x,y)\n",
    "    plt.plot([0,6],[0,0],'k')\n",
    "    \n",
    "    #plot x1 point\n",
    "    plt.plot(x1,func(x1),'ro',label='x1')\n",
    "    plt.plot([x1,x1],[0,func(x1)],'k')\n",
    "    \n",
    "    #plot x2 point\n",
    "    plt.plot(x2,func(x2),'bo',label='x2')\n",
    "    plt.plot([x2,x2],[0,func(x2)],'k')\n",
    "    \n",
    "    #plot xl line\n",
    "    plt.plot([xl,xl],[0,func(xl)])\n",
    "    plt.annotate('xl',xy=(xl-0.01,-0.2))\n",
    "        \n",
    "    #plot xu line\n",
    "    plt.plot([xu,xu],[0,func(xu)])\n",
    "    plt.annotate('xu',xy=(xu-0.01,-0.2))\n",
    "        \n",
    "    #plot x1 line\n",
    "    plt.plot([x1,x1],[0,func(x1)],'k')\n",
    "    plt.annotate('x1',xy=(x1-0.01,-0.2))\n",
    "        \n",
    "    #plot x2 line\n",
    "    plt.plot([x2,x2],[0,func(x2)],'k')\n",
    "    plt.annotate('x2',xy=(x2-0.01,-0.2))\n",
    "    \n",
    "    #y-axis limit\n",
    "    plt.ylim([-5,2])\n",
    "    plt.show()"
   ]
  },
  {
   "cell_type": "code",
   "execution_count": null,
   "metadata": {},
   "outputs": [],
   "source": [
    "xx = [2.5]\n",
    "x0 = xx[0]\n",
    "x=np.linspace(0,6,100)\n",
    "y=func(x)\n",
    "for i in range(0,10):\n",
    "    x1 = x0 - dfunc(x0)/ddfunc(x0)\n",
    "    plot_graph(x1)\n",
    "    plt.show()\n",
    "    print(f\"{i+1:2} : x0 = {x0:0.5f}, x1 = {x1:.5f}  f(x) = {func(x1):.4e}\")\n",
    "    x0 = x1\n",
    "    xx.append(x1)"
   ]
  },
  {
   "cell_type": "code",
   "execution_count": null,
   "metadata": {},
   "outputs": [],
   "source": [
    "for x in xx: print(f\"{x:0.5f}\")"
   ]
  },
  {
   "cell_type": "code",
   "execution_count": null,
   "metadata": {},
   "outputs": [],
   "source": [
    "# Set up a new Figure, with equal aspect ratio so the ball appears round.\n",
    "fig, ax = plt.subplots()\n",
    "# ax.set_aspect('equal')\n",
    "ax.figure.set_figheight(8)\n",
    "ax.figure.set_figwidth(20)\n",
    "ax.hlines(0, -0.1, 0.2, colors='k', linestyles='solid')\n",
    "ax.vlines(0, -0.003, 0.007, colors='k', linestyles='solid')\n",
    "# ax.vlines(0.02, -0.003, 0.007, colors='r', linestyles='dashed')\n",
    "ax.set_ylim(-0.0003, 0.0004)\n",
    "ax.set_xlim(-0.02, 0.12)\n",
    "x = [i/1000.0-0.1 for i in range(0, 300)]\n",
    "y = [func(i) for i in x]\n",
    "line, = ax.plot(x, y)"
   ]
  },
  {
   "cell_type": "code",
   "execution_count": null,
   "metadata": {},
   "outputs": [],
   "source": [
    "def update(frame):\n",
    "    ax.vlines(xx[frame], -0.0003, 0.0004, colors='r', linestyles='dashed')\n",
    "    \n",
    "    ball.center = (xx[frame], 0)\n",
    "    ax.scatter(xx[frame], [0], color='b')\n",
    "    # ax.add_patch(ball)\n",
    "\n",
    "anim = animation.FuncAnimation(fig, update, frames=range(0, len(xx)), interval=1000, repeat=False)\n",
    "HTML(anim.to_jshtml())\n",
    "# plt.show()"
   ]
  },
  {
   "cell_type": "code",
   "execution_count": null,
   "metadata": {},
   "outputs": [],
   "source": [
    "Latex(f\"\"\" \\\\begin{{equation*}} \\\\Huge\n",
    "      f(x) = x^3-0.03x^2+2.4 \\\\times 10^{{-6}}=0\n",
    "      \\\\end{{equation*}} \n",
    "      \"\"\")"
   ]
  },
  {
   "cell_type": "code",
   "execution_count": null,
   "metadata": {},
   "outputs": [],
   "source": [
    "# Set up a new Figure, with equal aspect ratio so the ball appears round.\n",
    "fig, ax = plt.subplots()\n",
    "# ax.set_aspect('equal')\n",
    "ax.figure.set_figheight(8)\n",
    "ax.figure.set_figwidth(20)\n",
    "ax.hlines(0, -0.1, 0.2, colors='k', linestyles='solid')\n",
    "ax.vlines(0, -0.003, 0.007, colors='k', linestyles='solid')\n",
    "ax.vlines(0.02, -0.003, 0.007, colors='r', linestyles='dashed')\n",
    "ax.set_ylim(-0.00001, 0.00001)\n",
    "ax.set_xlim(-0.05, 0.05)\n",
    "x = [i/1000.0-0.1 for i in range(0, 300)]\n",
    "y = [i**3-0.03*i**2+2.4*10**-6 for i in x]\n",
    "line, = ax.plot(x, y)"
   ]
  },
  {
   "cell_type": "markdown",
   "metadata": {},
   "source": [
    "<center>\n",
    "<hr>\n",
    "<font size=\"20\" color='Blue' >Secant Method</font>\n",
    "<hr>\n",
    "</center>"
   ]
  },
  {
   "cell_type": "code",
   "execution_count": null,
   "metadata": {},
   "outputs": [],
   "source": [
    "Latex(f\"\"\" \\\\begin{{equation*}} \\\\Huge\n",
    "      f(x) = x^3-0.165x^2+3.993 \\\\times 10^{{-4}}=0\n",
    "      \\\\end{{equation*}} \n",
    "      \"\"\")"
   ]
  },
  {
   "cell_type": "code",
   "execution_count": null,
   "metadata": {},
   "outputs": [],
   "source": [
    "def func(x):\n",
    "    return x**3 - 0.165*x**2 + 3.993*10**-4\n"
   ]
  },
  {
   "cell_type": "code",
   "execution_count": null,
   "metadata": {},
   "outputs": [],
   "source": [
    "xx = [0.02, 0.05]\n",
    "x0,x1 = xx[0],xx[1]\n",
    "for i in range(0,10):\n",
    "    if abs(func(x0) - func(x1)) < 1e-14: \n",
    "        break\n",
    "    x = x0 - func(x0)*(x0-x1)/(func(x0) - func(x1))\n",
    "    print(f\"{i+1:2} : x0 = {x0:0.5f}, x1 = {x1:.5f}  f(x) = {func(x):.4e}\")\n",
    "    x0 = x1\n",
    "    x1 = x\n",
    "    xx.append(x)"
   ]
  },
  {
   "cell_type": "markdown",
   "metadata": {},
   "source": [
    "<center>\n",
    "<hr>\n",
    "<font size=\"20\" color='Blue' >The end...</font>\n",
    "<hr>\n",
    "</center>"
   ]
  }
 ],
 "metadata": {
  "kernelspec": {
   "display_name": "Python 3",
   "language": "python",
   "name": "python3"
  },
  "language_info": {
   "codemirror_mode": {
    "name": "ipython",
    "version": 3
   },
   "file_extension": ".py",
   "mimetype": "text/x-python",
   "name": "python",
   "nbconvert_exporter": "python",
   "pygments_lexer": "ipython3",
   "version": "3.12.1"
  }
 },
 "nbformat": 4,
 "nbformat_minor": 2
}

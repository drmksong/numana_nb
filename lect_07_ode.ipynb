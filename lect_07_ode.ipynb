{
 "cells": [
  {
   "cell_type": "markdown",
   "metadata": {},
   "source": [
    "<center>\n",
    "<hr>\n",
    "<hr>\n",
    "<font style=\"font-size:5.4em ; color:black'\" > \n",
    "<span style=\"background : yellow\">\n",
    "#7 Ordinary Differential Equation\n",
    "</span>\n",
    "</font>\n",
    "<hr>\n",
    "<hr>\n",
    "</center>\n"
   ]
  },
  {
   "cell_type": "code",
   "execution_count": 2,
   "metadata": {},
   "outputs": [],
   "source": [
    "\n",
    "%matplotlib inline\n",
    "from IPython.display import display,Latex,Math,HTML\n",
    "import sympy as sym\n",
    "import math\n",
    "import numpy as np\n",
    "import scipy as sp\n",
    "import math\n",
    "import matplotlib.pyplot as plt\n",
    "import matplotlib.animation as animation"
   ]
  },
  {
   "cell_type": "markdown",
   "metadata": {},
   "source": [
    "<center>\n",
    "<hr>\n",
    "<font size=\"20\" color='Blue' >Euler's Method</font>\n",
    "<hr>\n",
    "</center>"
   ]
  },
  {
   "cell_type": "code",
   "execution_count": 3,
   "metadata": {},
   "outputs": [
    {
     "data": {
      "text/latex": [
       " \\begin{equation*} \\huge\n",
       "      y_{i+1} = y_i + f(x_i,y_i) \\cdot h\n",
       "      \\end{equation*} \n",
       "      "
      ],
      "text/plain": [
       "<IPython.core.display.Latex object>"
      ]
     },
     "execution_count": 3,
     "metadata": {},
     "output_type": "execute_result"
    }
   ],
   "source": [
    "Latex(\"\"\" \\\\begin{equation*} \\\\huge\n",
    "      y_{i+1} = y_i + f(x_i,y_i) \\\\cdot h\n",
    "      \\\\end{equation*} \n",
    "      \"\"\")"
   ]
  },
  {
   "cell_type": "markdown",
   "metadata": {},
   "source": [
    "\n",
    "## Example 25.1 Euler's Method\n",
    "\n",
    "### Program Statement\n",
    "\n",
    "* Use Euler’s method to numerically integrate Eq. (PT7.13):"
   ]
  },
  {
   "cell_type": "code",
   "execution_count": 4,
   "metadata": {},
   "outputs": [
    {
     "data": {
      "text/latex": [
       " \\begin{equation*} \\huge\n",
       "      {dy \\over dx} = -2 x^3 + 12 x^2 - 20 x + 8.5\n",
       "      \\end{equation*} \n",
       "      "
      ],
      "text/plain": [
       "<IPython.core.display.Latex object>"
      ]
     },
     "execution_count": 4,
     "metadata": {},
     "output_type": "execute_result"
    }
   ],
   "source": [
    "Latex(\"\"\" \\\\begin{equation*} \\\\huge\n",
    "      {dy \\over dx} = -2 x^3 + 12 x^2 - 20 x + 8.5\n",
    "      \\\\end{equation*} \n",
    "      \"\"\")"
   ]
  },
  {
   "cell_type": "markdown",
   "metadata": {},
   "source": [
    "from x 5 0 to x 5 4 with a step size of 0.5. The initial condition at x 5 0 is y 5 1.\n",
    "Recall that the exact solution is given by Eq. (PT7.16):"
   ]
  },
  {
   "cell_type": "code",
   "execution_count": 5,
   "metadata": {},
   "outputs": [
    {
     "data": {
      "text/latex": [
       " \\begin{equation*} \\huge\n",
       "      y = -0.5 x^4 + 4 x^3 - 10 x^2 + 8.5 x + 1\n",
       "      \\end{equation*} \n",
       "      "
      ],
      "text/plain": [
       "<IPython.core.display.Latex object>"
      ]
     },
     "execution_count": 5,
     "metadata": {},
     "output_type": "execute_result"
    }
   ],
   "source": [
    "Latex(\"\"\" \\\\begin{equation*} \\\\huge\n",
    "      y = -0.5 x^4 + 4 x^3 - 10 x^2 + 8.5 x + 1\n",
    "      \\\\end{equation*} \n",
    "      \"\"\")"
   ]
  },
  {
   "cell_type": "markdown",
   "metadata": {},
   "source": [
    "### Solution\n",
    "\n",
    "Equation can be used to implement Euler's method:"
   ]
  },
  {
   "cell_type": "code",
   "execution_count": 17,
   "metadata": {},
   "outputs": [
    {
     "data": {
      "text/latex": [
       " \\begin{equation*} \\huge\n",
       "      {dy \\over dx} = f(x,y) = -2 x^3 + 12 x^2 - 20 x + 8.5\n",
       "      \\end{equation*} \n",
       "      "
      ],
      "text/plain": [
       "<IPython.core.display.Latex object>"
      ]
     },
     "execution_count": 17,
     "metadata": {},
     "output_type": "execute_result"
    }
   ],
   "source": [
    "Latex(\"\"\" \\\\begin{equation*} \\\\huge\n",
    "      {dy \\over dx} = f(x,y) = -2 x^3 + 12 x^2 - 20 x + 8.5\n",
    "      \\\\end{equation*} \n",
    "      \"\"\")"
   ]
  },
  {
   "cell_type": "code",
   "execution_count": 6,
   "metadata": {},
   "outputs": [],
   "source": [
    "def func(x):\n",
    "    return -2 * x**3 + 12 * x**2 - 20 * x + 8.5"
   ]
  },
  {
   "cell_type": "code",
   "execution_count": 7,
   "metadata": {},
   "outputs": [],
   "source": [
    "def F(x):\n",
    "    return -0.5 * x**4 + 4 * x**3 - 10 * x**2 + 8.5 * x + 1"
   ]
  },
  {
   "cell_type": "code",
   "execution_count": 8,
   "metadata": {},
   "outputs": [
    {
     "name": "stdout",
     "output_type": "stream",
     "text": [
      "x = 0.0 y_true = 1.00000 y_Euler = 1.00000\n",
      "x1 = 0.5 y_true = 3.21875 y_Euler = 5.25000 et =      -63.1 \n",
      "x1 = 1.0 y_true = 3.00000 y_Euler = 5.87500 et =      -95.8 \n",
      "x1 = 1.5 y_true = 2.21875 y_Euler = 5.12500 et =     -131.0 \n",
      "x1 = 2.0 y_true = 2.00000 y_Euler = 4.50000 et =     -125.0 \n",
      "x1 = 2.5 y_true = 2.71875 y_Euler = 4.75000 et =      -74.7 \n",
      "x1 = 3.0 y_true = 4.00000 y_Euler = 5.87500 et =      -46.9 \n",
      "x1 = 3.5 y_true = 4.71875 y_Euler = 7.12500 et =      -51.0 \n",
      "x1 = 4.0 y_true = 3.00000 y_Euler = 7.00000 et =     -133.3 \n"
     ]
    }
   ],
   "source": [
    "yl = []\n",
    "\n",
    "step = 0.5  # step size\n",
    "x1 = 0.0  # initial x\n",
    "y1 = F(x1)  # initial y\n",
    "yl.append(y1)\n",
    "\n",
    "print(f'x = {x1} y_true = {F(x1):0.5f} y_Euler = {y1:0.5f}')\n",
    "\n",
    "for i in range(8):\n",
    "    x = x1\n",
    "    y = y1\n",
    "    grad = func(x)\n",
    "    y1 = y + grad * step \n",
    "    x1 = x + step\n",
    "    et = ((F(x1) - y1)/F(x1))*100\n",
    "    ea = ((y1 - yl[-1])/y1)*100\n",
    "    print(f'x1 = {x1} y_true = {F(x1):0.5f} y_Euler = {y1:0.5f} et = {et:10.1f} ')\n",
    "    yl.append(y1)\n",
    "\n"
   ]
  },
  {
   "cell_type": "markdown",
   "metadata": {},
   "source": [
    "\n",
    "## Example 25.2 Error Estimates of Euler's Method\n",
    "\n",
    "### Program Statement\n",
    "\n",
    "* Use Eq. (25.7) to estimate the error of the first step of Example 25.1. Also use it to determine the error due to each higher-order term of the Taylor series expansion."
   ]
  },
  {
   "cell_type": "code",
   "execution_count": 14,
   "metadata": {},
   "outputs": [
    {
     "data": {
      "text/latex": [
       " \\begin{equation*} \\huge\n",
       "      E_t = {f'(x_i,y_i)\\over 2!}h^2+ \\cdots + O(h^{n+1})\n",
       "      \\end{equation*} \n",
       "      "
      ],
      "text/plain": [
       "<IPython.core.display.Latex object>"
      ]
     },
     "execution_count": 14,
     "metadata": {},
     "output_type": "execute_result"
    }
   ],
   "source": [
    "Latex(\"\"\" \\\\begin{equation*} \\\\huge\n",
    "      E_t = {f'(x_i,y_i)\\over 2!}h^2+ \\cdots + O(h^{n+1})\n",
    "      \\\\end{equation*} \n",
    "      \"\"\")"
   ]
  },
  {
   "cell_type": "markdown",
   "metadata": {},
   "source": [
    "### Solution\n",
    "\n",
    "* Because we are dealing with a polynomial, we can use the Taylor series to obtain exact estimates of the errors in Euler’s method. Equation (25.7) can be written as\n"
   ]
  },
  {
   "cell_type": "code",
   "execution_count": 15,
   "metadata": {},
   "outputs": [
    {
     "data": {
      "text/latex": [
       " \\begin{equation*} \\huge\n",
       "      E_t = {f'(x_i,y_i)\\over 2!}h^2+{f''(x_i,y_i)\\over 3!}h^3+{f'''(x_i,y_i)\\over 4!}h^4\n",
       "      \\end{equation*} \n",
       "      "
      ],
      "text/plain": [
       "<IPython.core.display.Latex object>"
      ]
     },
     "execution_count": 15,
     "metadata": {},
     "output_type": "execute_result"
    }
   ],
   "source": [
    "Latex(\"\"\" \\\\begin{equation*} \\\\huge\n",
    "      E_t = {f'(x_i,y_i)\\over 2!}h^2+{f''(x_i,y_i)\\over 3!}h^3+{f'''(x_i,y_i)\\over 4!}h^4\n",
    "      \\\\end{equation*} \n",
    "      \"\"\")"
   ]
  },
  {
   "cell_type": "code",
   "execution_count": 18,
   "metadata": {},
   "outputs": [],
   "source": [
    "def dfunc(x,degree=1):  # Derivative of f(x) at x\n",
    "    if degree == 0:\n",
    "        return -2 * x**3 + 12 * x**2 - 20 * x + 8.5\n",
    "    elif degree == 1:\n",
    "        return -6 * x**2 + 24 * x - 20\n",
    "    elif degree == 2:\n",
    "        return -12 * x + 24\n",
    "    elif degree == 3:\n",
    "        return -12"
   ]
  },
  {
   "cell_type": "code",
   "execution_count": 22,
   "metadata": {},
   "outputs": [],
   "source": [
    "def fact(n):\n",
    "    if n == 0:\n",
    "        return 1\n",
    "    else:\n",
    "        return n * fact(n-1)"
   ]
  },
  {
   "cell_type": "code",
   "execution_count": 25,
   "metadata": {},
   "outputs": [
    {
     "name": "stdout",
     "output_type": "stream",
     "text": [
      "E_t = -0.84375 = -9.5 + 18.0 + -12\n"
     ]
    }
   ],
   "source": [
    "x = 0.5\n",
    "step = 0.5\n",
    "E_t = sum([dfunc(x,i+1)/fact(i+2)*step**(i+2) for i in range(3)]  )\n",
    "print(f'E_t = {E_t} = {dfunc(x,1)} + {dfunc(x,2)} + {dfunc(x,3)}')"
   ]
  },
  {
   "cell_type": "code",
   "execution_count": null,
   "metadata": {},
   "outputs": [],
   "source": []
  },
  {
   "cell_type": "code",
   "execution_count": 10,
   "metadata": {},
   "outputs": [
    {
     "name": "stdout",
     "output_type": "stream",
     "text": [
      "15.766930455775165\n",
      "15.186062841831374\n"
     ]
    }
   ],
   "source": [
    "y0 = 13.44346\n",
    "y1 = 6.360865+(4*math.exp(0.8)-0.5*6.360865+4*math.exp(0.8*2)-0.5*y0)/(2)\n",
    "print(y1)\n",
    "y0 = y1\n",
    "y2 = 6.360865+(4*math.exp(0.8)-0.5*6.360865+4*math.exp(0.8*2)-0.5*y0)/(2)\n",
    "print(y2)"
   ]
  },
  {
   "cell_type": "code",
   "execution_count": 11,
   "metadata": {},
   "outputs": [
    {
     "name": "stdout",
     "output_type": "stream",
     "text": [
      "3.825004676944569\n"
     ]
    }
   ],
   "source": [
    "e = abs(y2-y1)/y2\n",
    "print(e*100)"
   ]
  },
  {
   "cell_type": "code",
   "execution_count": null,
   "metadata": {},
   "outputs": [],
   "source": []
  }
 ],
 "metadata": {
  "kernelspec": {
   "display_name": "Python 3",
   "language": "python",
   "name": "python3"
  },
  "language_info": {
   "codemirror_mode": {
    "name": "ipython",
    "version": 3
   },
   "file_extension": ".py",
   "mimetype": "text/x-python",
   "name": "python",
   "nbconvert_exporter": "python",
   "pygments_lexer": "ipython3",
   "version": "3.10.12"
  }
 },
 "nbformat": 4,
 "nbformat_minor": 2
}
